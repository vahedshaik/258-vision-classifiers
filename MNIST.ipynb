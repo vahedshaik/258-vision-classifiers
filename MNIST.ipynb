{
  "nbformat": 4,
  "nbformat_minor": 0,
  "metadata": {
    "colab": {
      "provenance": [],
      "gpuType": "T4"
    },
    "kernelspec": {
      "name": "python3",
      "display_name": "Python 3"
    },
    "language_info": {
      "name": "python"
    },
    "accelerator": "GPU",
    "gpuClass": "standard"
  },
  "cells": [
    {
      "cell_type": "code",
      "source": [
        "import numpy as np\n",
        "import pandas as pd\n",
        "import matplotlib.pyplot as plt\n",
        "\n",
        "import tensorflow as tf\n",
        "from tensorflow import keras\n",
        "import tensorflow_hub as hub\n",
        "import tensorflow_datasets as tfds\n",
        "from functools import partial\n",
        "from tensorflow.keras.applications import EfficientNetB0"
      ],
      "metadata": {
        "id": "gqx19f6kWTlC"
      },
      "execution_count": null,
      "outputs": []
    },
    {
      "cell_type": "code",
      "source": [
        "'''try:\n",
        "    tpu = tf.distribute.cluster_resolver.TPUClusterResolver.connect()\n",
        "    print(\"Device:\", tpu.master())\n",
        "    strategy = tf.distribute.TPUStrategy(tpu)\n",
        "except ValueError:\n",
        "    print(\"Not connected to a TPU runtime. Using CPU/GPU strategy\")\n",
        "    strategy = tf.distribute.MirroredStrategy()'''"
      ],
      "metadata": {
        "id": "xkkOgnUkzrS3",
        "colab": {
          "base_uri": "https://localhost:8080/"
        },
        "outputId": "7c2ece78-c999-4d6c-9497-020fdc8f8d1a"
      },
      "execution_count": null,
      "outputs": [
        {
          "output_type": "execute_result",
          "data": {
            "text/plain": [
              "'try:\\n    tpu = tf.distribute.cluster_resolver.TPUClusterResolver.connect()\\n    print(\"Device:\", tpu.master())\\n    strategy = tf.distribute.TPUStrategy(tpu)\\nexcept ValueError:\\n    print(\"Not connected to a TPU runtime. Using CPU/GPU strategy\")\\n    strategy = tf.distribute.MirroredStrategy()'"
            ],
            "application/vnd.google.colaboratory.intrinsic+json": {
              "type": "string"
            }
          },
          "metadata": {},
          "execution_count": 2
        }
      ]
    },
    {
      "cell_type": "code",
      "source": [
        "mnist = tf.keras.datasets.mnist.load_data()\n",
        "(X_train_full, y_train_full), (X_test, y_test) = mnist\n",
        "\n",
        "X_train_full = np.expand_dims(X_train_full, axis=-1).astype(np.float32) / 255\n",
        "X_test = np.expand_dims(X_test.astype(np.float32), axis=-1) / 255"
      ],
      "metadata": {
        "id": "ukg8JkOPVxn2",
        "colab": {
          "base_uri": "https://localhost:8080/"
        },
        "outputId": "2f744676-652b-4b87-89db-9f6a0a9861ec"
      },
      "execution_count": null,
      "outputs": [
        {
          "output_type": "stream",
          "name": "stdout",
          "text": [
            "Downloading data from https://storage.googleapis.com/tensorflow/tf-keras-datasets/mnist.npz\n",
            "11490434/11490434 [==============================] - 0s 0us/step\n"
          ]
        }
      ]
    },
    {
      "cell_type": "code",
      "source": [
        "X_train, X_valid = X_train_full[:-10000], X_train_full[-10000:]\n",
        "y_train, y_valid = y_train_full[:-10000], y_train_full[-10000:]"
      ],
      "metadata": {
        "id": "MQHG_JEWZaAH"
      },
      "execution_count": null,
      "outputs": []
    },
    {
      "cell_type": "code",
      "source": [
        "tf.random.set_seed(42)"
      ],
      "metadata": {
        "id": "YRnJTNUJiJBh"
      },
      "execution_count": null,
      "outputs": []
    },
    {
      "cell_type": "code",
      "source": [
        "X_train.shape, X_valid.shape, X_test.shape, y_train.shape"
      ],
      "metadata": {
        "colab": {
          "base_uri": "https://localhost:8080/"
        },
        "id": "AfT1vAXnA24d",
        "outputId": "8be2845d-e754-4a74-ede7-31d0f4af0ff5"
      },
      "execution_count": null,
      "outputs": [
        {
          "output_type": "execute_result",
          "data": {
            "text/plain": [
              "((50000, 28, 28, 1), (10000, 28, 28, 1), (10000, 28, 28, 1), (50000,))"
            ]
          },
          "metadata": {},
          "execution_count": 6
        }
      ]
    },
    {
      "cell_type": "code",
      "source": [
        "DefaultConv2D = partial(tf.keras.layers.Conv2D, kernel_size=3, padding=\"same\", activation=\"relu\", kernel_initializer=\"he_normal\")\n",
        "\n",
        "model = tf.keras.Sequential([\n",
        "    DefaultConv2D(filters=64, kernel_size=7, input_shape=[28, 28, 1]),\n",
        "    tf.keras.layers.MaxPool2D(),\n",
        "\n",
        "    DefaultConv2D(filters=128),\n",
        "    DefaultConv2D(filters=128),\n",
        "    tf.keras.layers.MaxPool2D(),\n",
        "\n",
        "    DefaultConv2D(filters=256),\n",
        "    DefaultConv2D(filters=256),\n",
        "    tf.keras.layers.MaxPool2D(),\n",
        "\n",
        "    tf.keras.layers.Flatten(),\n",
        "    \n",
        "    tf.keras.layers.Dense(units=128, activation=\"relu\", kernel_initializer=\"he_normal\"),\n",
        "    tf.keras.layers.Dropout(0.5),\n",
        "    tf.keras.layers.Dense(units=64, activation=\"relu\", kernel_initializer=\"he_normal\"),\n",
        "    tf.keras.layers.Dropout(0.5),\n",
        "    tf.keras.layers.Dense(units=10, activation=\"softmax\")\n",
        "    ])"
      ],
      "metadata": {
        "id": "38TZ0CXFWQct"
      },
      "execution_count": null,
      "outputs": []
    },
    {
      "cell_type": "code",
      "source": [
        "model.compile(loss=\"sparse_categorical_crossentropy\", optimizer=\"nadam\", metrics=[\"accuracy\"])\n",
        "\n",
        "history = model.fit(X_train, y_train, epochs=3, validation_data=(X_valid, y_valid))\n",
        "\n",
        "score = model.evaluate(X_test, y_test)"
      ],
      "metadata": {
        "colab": {
          "base_uri": "https://localhost:8080/"
        },
        "id": "R-6qqhBQWjfw",
        "outputId": "15cb9f32-e52b-4c9a-acd3-1423c6ede032"
      },
      "execution_count": null,
      "outputs": [
        {
          "output_type": "stream",
          "name": "stdout",
          "text": [
            "Epoch 1/3\n",
            "1563/1563 [==============================] - 28s 10ms/step - loss: 0.7980 - accuracy: 0.7336 - val_loss: 0.0940 - val_accuracy: 0.9807\n",
            "Epoch 2/3\n",
            "1563/1563 [==============================] - 16s 10ms/step - loss: 0.2697 - accuracy: 0.9182 - val_loss: 0.0755 - val_accuracy: 0.9817\n",
            "Epoch 3/3\n",
            "1563/1563 [==============================] - 14s 9ms/step - loss: 0.1688 - accuracy: 0.9522 - val_loss: 0.0755 - val_accuracy: 0.9852\n",
            "313/313 [==============================] - 1s 4ms/step - loss: 0.0610 - accuracy: 0.9864\n"
          ]
        }
      ]
    },
    {
      "cell_type": "code",
      "source": [
        "X_test_samples = X_test[:10] \n",
        "y_pred = model.predict(X_test_samples)"
      ],
      "metadata": {
        "id": "xd-4v4XsWnme",
        "colab": {
          "base_uri": "https://localhost:8080/"
        },
        "outputId": "15a8c28a-eb4e-4eea-94a5-bb1b418530e4"
      },
      "execution_count": null,
      "outputs": [
        {
          "output_type": "stream",
          "name": "stdout",
          "text": [
            "1/1 [==============================] - 0s 286ms/step\n"
          ]
        }
      ]
    },
    {
      "cell_type": "markdown",
      "source": [
        "LeNet-5\n"
      ],
      "metadata": {
        "id": "lq2U5ULwqYL4"
      }
    },
    {
      "cell_type": "code",
      "source": [
        "X_train_ = tf.image.resize(X_train, [32, 32])\n",
        "X_train_ = tf.cast(X_train_, dtype=tf.float32) / 255.0\n",
        "\n",
        "X_valid_ = tf.image.resize(X_valid, [32, 32])\n",
        "X_valid_ = tf.cast(X_valid_, dtype=tf.float32) / 255.0\n",
        "\n",
        "X_test_ = tf.image.resize(X_test, [32, 32])\n",
        "X_test_ = tf.cast(X_test_, dtype=tf.float32) / 255.0"
      ],
      "metadata": {
        "id": "uALdJKoiqZ3w"
      },
      "execution_count": null,
      "outputs": []
    },
    {
      "cell_type": "code",
      "source": [
        "model = keras.models.Sequential()\n",
        "model.add(keras.layers.Conv2D(filters=32, kernel_size=(5,5), padding='same', activation='relu', input_shape=(32, 32, 1)))\n",
        "model.add(keras.layers.MaxPool2D(strides=2))\n",
        "model.add(keras.layers.Conv2D(filters=48, kernel_size=(5,5), padding='valid', activation='relu'))\n",
        "model.add(keras.layers.MaxPool2D(strides=2))\n",
        "model.add(keras.layers.Flatten())\n",
        "model.add(keras.layers.Dense(256, activation='relu'))\n",
        "model.add(keras.layers.Dense(84, activation='relu'))\n",
        "model.add(keras.layers.Dense(10, activation='softmax'))"
      ],
      "metadata": {
        "id": "EscUd4XSY-aK"
      },
      "execution_count": null,
      "outputs": []
    },
    {
      "cell_type": "code",
      "source": [
        "model.compile(loss=\"sparse_categorical_crossentropy\", optimizer=\"adam\", metrics=[\"accuracy\"])\n",
        "\n",
        "history = model.fit(X_train_, y_train, epochs=10, validation_data=(X_valid_, y_valid))"
      ],
      "metadata": {
        "id": "5YdCtXtNZAXb",
        "colab": {
          "base_uri": "https://localhost:8080/"
        },
        "outputId": "be7cc124-b473-4ff2-eb36-5e42ab17534a"
      },
      "execution_count": null,
      "outputs": [
        {
          "output_type": "stream",
          "name": "stdout",
          "text": [
            "Epoch 1/10\n",
            "1563/1563 [==============================] - 11s 5ms/step - loss: 0.7084 - accuracy: 0.7596 - val_loss: 0.2548 - val_accuracy: 0.9230\n",
            "Epoch 2/10\n",
            "1563/1563 [==============================] - 8s 5ms/step - loss: 0.2079 - accuracy: 0.9345 - val_loss: 0.1780 - val_accuracy: 0.9428\n",
            "Epoch 3/10\n",
            "1563/1563 [==============================] - 8s 5ms/step - loss: 0.1399 - accuracy: 0.9561 - val_loss: 0.1043 - val_accuracy: 0.9689\n",
            "Epoch 4/10\n",
            "1563/1563 [==============================] - 8s 5ms/step - loss: 0.1072 - accuracy: 0.9653 - val_loss: 0.1030 - val_accuracy: 0.9696\n",
            "Epoch 5/10\n",
            "1563/1563 [==============================] - 8s 5ms/step - loss: 0.0856 - accuracy: 0.9724 - val_loss: 0.0767 - val_accuracy: 0.9766\n",
            "Epoch 6/10\n",
            "1563/1563 [==============================] - 8s 5ms/step - loss: 0.0695 - accuracy: 0.9781 - val_loss: 0.0817 - val_accuracy: 0.9748\n",
            "Epoch 7/10\n",
            "1563/1563 [==============================] - 9s 6ms/step - loss: 0.0587 - accuracy: 0.9811 - val_loss: 0.0704 - val_accuracy: 0.9803\n",
            "Epoch 8/10\n",
            "1563/1563 [==============================] - 8s 5ms/step - loss: 0.0516 - accuracy: 0.9838 - val_loss: 0.0724 - val_accuracy: 0.9795\n",
            "Epoch 9/10\n",
            "1563/1563 [==============================] - 8s 5ms/step - loss: 0.0443 - accuracy: 0.9858 - val_loss: 0.0676 - val_accuracy: 0.9806\n",
            "Epoch 10/10\n",
            "1563/1563 [==============================] - 8s 5ms/step - loss: 0.0401 - accuracy: 0.9867 - val_loss: 0.0661 - val_accuracy: 0.9805\n"
          ]
        }
      ]
    },
    {
      "cell_type": "code",
      "source": [
        "score = model.evaluate(X_test_, y_test)\n",
        "score"
      ],
      "metadata": {
        "id": "65Rfxbg2ZCkI",
        "colab": {
          "base_uri": "https://localhost:8080/"
        },
        "outputId": "0cc220a1-1d35-4f66-e2b2-0781a8a6238c"
      },
      "execution_count": null,
      "outputs": [
        {
          "output_type": "stream",
          "name": "stdout",
          "text": [
            "313/313 [==============================] - 1s 3ms/step - loss: 0.0556 - accuracy: 0.9811\n"
          ]
        },
        {
          "output_type": "execute_result",
          "data": {
            "text/plain": [
              "[0.05562984570860863, 0.9811000227928162]"
            ]
          },
          "metadata": {},
          "execution_count": 13
        }
      ]
    },
    {
      "cell_type": "markdown",
      "source": [
        "## Transfer Learning with Efficient Net"
      ],
      "metadata": {
        "id": "ednp0QuRqrQk"
      }
    },
    {
      "cell_type": "code",
      "source": [
        "model = EfficientNetB0(include_top=False, weights='imagenet')"
      ],
      "metadata": {
        "colab": {
          "base_uri": "https://localhost:8080/"
        },
        "id": "zTr6rdZXqsbQ",
        "outputId": "9734c20a-4588-4b2c-b0dd-6d9573c71f6d"
      },
      "execution_count": null,
      "outputs": [
        {
          "output_type": "stream",
          "name": "stdout",
          "text": [
            "Downloading data from https://storage.googleapis.com/keras-applications/efficientnetb0_notop.h5\n",
            "16705208/16705208 [==============================] - 0s 0us/step\n"
          ]
        }
      ]
    },
    {
      "cell_type": "code",
      "source": [
        "IMG_SIZE = 224\n",
        "BATCH_SIZE = 32\n",
        "NUM_CLASSES = 10"
      ],
      "metadata": {
        "id": "yYipznm8zndg"
      },
      "execution_count": null,
      "outputs": []
    },
    {
      "cell_type": "code",
      "source": [
        "train_ds = tf.data.Dataset.from_tensor_slices((X_train, y_train))\n",
        "test_ds = tf.data.Dataset.from_tensor_slices((X_test, y_test))"
      ],
      "metadata": {
        "id": "2ZTwjsWlIoOi"
      },
      "execution_count": null,
      "outputs": []
    },
    {
      "cell_type": "code",
      "source": [
        "size = (IMG_SIZE, IMG_SIZE)\n",
        "train_ds = train_ds.map(lambda image, label: (tf.image.resize(image, size), label))\n",
        "test_ds = test_ds.map(lambda image, label: (tf.image.resize(image, size), label))"
      ],
      "metadata": {
        "id": "6JnoIKhQLBMA"
      },
      "execution_count": null,
      "outputs": []
    },
    {
      "cell_type": "code",
      "source": [
        "def input_preprocess(image, label):\n",
        "    label = tf.one_hot(label, NUM_CLASSES)\n",
        "    return image, label\n",
        "\n",
        "train_ds = train_ds.map(input_preprocess, num_parallel_calls=tf.data.AUTOTUNE)\n",
        "train_ds = train_ds.batch(batch_size=BATCH_SIZE, drop_remainder=True)\n",
        "train_ds = train_ds.prefetch(tf.data.AUTOTUNE)\n",
        "\n",
        "test_ds = test_ds.map(input_preprocess)\n",
        "test_ds = test_ds.batch(batch_size=BATCH_SIZE, drop_remainder=True)"
      ],
      "metadata": {
        "id": "j553WlXZ0n9w"
      },
      "execution_count": null,
      "outputs": []
    },
    {
      "cell_type": "code",
      "source": [
        "def build_model(num_classes):\n",
        "    inputs = keras.layers.Input(shape=(IMG_SIZE, IMG_SIZE, 3))\n",
        "\n",
        "    model = EfficientNetB0(include_top=False, input_tensor=inputs, weights=\"imagenet\")\n",
        "    model.trainable = False\n",
        "\n",
        "    x = keras.layers.GlobalAveragePooling2D(name=\"avg_pool\")(model.output)\n",
        "    x = keras.layers.BatchNormalization()(x)\n",
        "    top_dropout_rate = 0.2\n",
        "    x = keras.layers.Dropout(top_dropout_rate, name=\"top_dropout\")(x)\n",
        "    outputs = keras.layers.Dense(NUM_CLASSES, activation=\"softmax\", name=\"pred\")(x)\n",
        "    model = tf.keras.Model(inputs, outputs, name=\"EfficientNet\")\n",
        "    optimizer = tf.keras.optimizers.Adam(learning_rate=1e-2)\n",
        "    model.compile(optimizer=optimizer, loss=\"categorical_crossentropy\", metrics=[\"accuracy\"])\n",
        "    return model"
      ],
      "metadata": {
        "id": "rGSzeQpd0ykB"
      },
      "execution_count": null,
      "outputs": []
    },
    {
      "cell_type": "code",
      "source": [
        "model = build_model(num_classes=NUM_CLASSES)\n",
        "\n",
        "hist = model.fit(train_ds, epochs=3, validation_data=test_ds, verbose=2)"
      ],
      "metadata": {
        "colab": {
          "base_uri": "https://localhost:8080/"
        },
        "id": "5co-Q6uz2VRP",
        "outputId": "f97d84ab-f935-41fc-dd8d-499f13c682d1"
      },
      "execution_count": null,
      "outputs": [
        {
          "output_type": "stream",
          "name": "stdout",
          "text": [
            "Epoch 1/3\n",
            "1562/1562 - 112s - loss: 2.4779 - accuracy: 0.1078 - val_loss: 2.3003 - val_accuracy: 0.1010 - 112s/epoch - 72ms/step\n",
            "Epoch 2/3\n",
            "1562/1562 - 106s - loss: 2.3137 - accuracy: 0.1109 - val_loss: 2.3064 - val_accuracy: 0.0891 - 106s/epoch - 68ms/step\n",
            "Epoch 3/3\n",
            "1562/1562 - 106s - loss: 2.3305 - accuracy: 0.1043 - val_loss: 2.3087 - val_accuracy: 0.1131 - 106s/epoch - 68ms/step\n"
          ]
        }
      ]
    },
    {
      "cell_type": "markdown",
      "source": [
        "## Transfer Learning with BiT"
      ],
      "metadata": {
        "id": "j9aFV9mIqtpa"
      }
    },
    {
      "cell_type": "code",
      "source": [
        "IMG_SIZE = 384\n",
        "CROP_TO = 224\n",
        "BATCH_SIZE = 64\n",
        "STEPS_PER_EPOCH = 10\n",
        "AUTO = tf.data.AUTOTUNE  \n",
        "NUM_CLASSES = 10\n",
        "SCHEDULE_LENGTH = (20)\n",
        "SCHEDULE_BOUNDARIES = [5, 10, 15]"
      ],
      "metadata": {
        "id": "hNi5IzMJvfRb"
      },
      "execution_count": null,
      "outputs": []
    },
    {
      "cell_type": "code",
      "source": [
        "train_ds = tf.data.Dataset.from_tensor_slices((X_train, y_train))\n",
        "test_ds = tf.data.Dataset.from_tensor_slices((X_test, y_test))"
      ],
      "metadata": {
        "id": "oGjQlMUkLicp"
      },
      "execution_count": null,
      "outputs": []
    },
    {
      "cell_type": "code",
      "source": [
        "\n",
        "@tf.function\n",
        "def preprocess_train(image, label):\n",
        "    image = tf.image.random_flip_left_right(image)\n",
        "    image = tf.image.resize(image, (CROP_TO, CROP_TO))\n",
        "    image = tf.image.grayscale_to_rgb(image)\n",
        "    image = tf.image.random_crop(image, (CROP_TO, CROP_TO, 3))\n",
        "    image = image / 255.0\n",
        "    return (image, label)\n",
        "\n",
        "@tf.function\n",
        "def preprocess_test(image, label):\n",
        "    image = tf.image.resize(image, (CROP_TO, CROP_TO))\n",
        "    image = tf.image.grayscale_to_rgb(image)\n",
        "    image = image / 255.0\n",
        "    return (image, label)\n",
        "\n",
        "DATASET_NUM_TRAIN_EXAMPLES = train_ds.cardinality().numpy()\n",
        "\n",
        "repeat_count = int(SCHEDULE_LENGTH * BATCH_SIZE / DATASET_NUM_TRAIN_EXAMPLES * STEPS_PER_EPOCH)\n",
        "repeat_count += 10 + 1"
      ],
      "metadata": {
        "id": "nmAgOochvxHJ"
      },
      "execution_count": null,
      "outputs": []
    },
    {
      "cell_type": "code",
      "source": [
        "train_ds = train_ds.shuffle(10000)\n",
        "train_ds = train_ds.repeat(repeat_count)\n",
        "train_ds = train_ds.map(preprocess_train, num_parallel_calls=AUTO)\n",
        "train_ds = train_ds.batch(BATCH_SIZE)\n",
        "train_ds = train_ds.prefetch(AUTO)\n",
        "test_ds = test_ds.map(preprocess_test, num_parallel_calls=AUTO)\n",
        "test_ds = test_ds.batch(BATCH_SIZE)\n",
        "test_ds = test_ds.prefetch(AUTO)"
      ],
      "metadata": {
        "id": "Sj8g-L_Wv_H7"
      },
      "execution_count": null,
      "outputs": []
    },
    {
      "cell_type": "code",
      "source": [
        "\n",
        "bit_model_url = \"https://tfhub.dev/google/bit/m-r50x1/1\"\n",
        "bit_module = hub.KerasLayer(bit_model_url)"
      ],
      "metadata": {
        "id": "eVkMZOP6wIR8"
      },
      "execution_count": null,
      "outputs": []
    },
    {
      "cell_type": "code",
      "source": [
        "class BiTModel(keras.Model):\n",
        "  def __init__(self, num_classes, module, **kwargs):\n",
        "    super().__init__(**kwargs)\n",
        "    self.num_classes = num_classes\n",
        "    self.head = keras.layers.Dense(num_classes, kernel_initializer=\"zeros\")\n",
        "    self.bit_model = module\n",
        "\n",
        "  def call(self, images):\n",
        "    bit_embedding = self.bit_model(images)\n",
        "    return self.head(bit_embedding)\n",
        "\n",
        "model = BiTModel(num_classes=NUM_CLASSES, module=bit_module)"
      ],
      "metadata": {
        "id": "kCktCSZxwcSS"
      },
      "execution_count": null,
      "outputs": []
    },
    {
      "cell_type": "code",
      "source": [
        "\n",
        "learning_rate = 0.005 * BATCH_SIZE / 512\n",
        "\n",
        "lr_schedule = keras.optimizers.schedules.PiecewiseConstantDecay(\n",
        "    boundaries=SCHEDULE_BOUNDARIES,\n",
        "    values=[\n",
        "        learning_rate,\n",
        "        learning_rate * 0.1,\n",
        "        learning_rate * 0.01,\n",
        "        learning_rate * 0.001,\n",
        "    ],\n",
        ")\n",
        "optimizer = keras.optimizers.SGD(learning_rate=lr_schedule, momentum=0.9)\n",
        "\n",
        "loss_fn = keras.losses.SparseCategoricalCrossentropy(from_logits=True)"
      ],
      "metadata": {
        "id": "DIsEeedEwt5v"
      },
      "execution_count": null,
      "outputs": []
    },
    {
      "cell_type": "code",
      "source": [
        "model.compile(optimizer=optimizer, loss=loss_fn, metrics=[\"accuracy\"])"
      ],
      "metadata": {
        "id": "ihSiXOo6w8oN"
      },
      "execution_count": null,
      "outputs": []
    },
    {
      "cell_type": "code",
      "source": [
        "\n",
        "callbacks = [keras.callbacks.EarlyStopping(monitor=\"val_accuracy\", patience=2, restore_best_weights=True)]"
      ],
      "metadata": {
        "id": "b0xJOxT8w_mP"
      },
      "execution_count": null,
      "outputs": []
    },
    {
      "cell_type": "code",
      "source": [
        "history = model.fit(\n",
        "    train_ds,\n",
        "    batch_size=BATCH_SIZE,\n",
        "    epochs=3,\n",
        "    steps_per_epoch=STEPS_PER_EPOCH,\n",
        "    validation_data=test_ds,\n",
        "    callbacks=callbacks,\n",
        ")"
      ],
      "metadata": {
        "colab": {
          "base_uri": "https://localhost:8080/"
        },
        "id": "8xwAgvZdxHdI",
        "outputId": "e9f903a4-76df-4338-e216-c18e90e0da7f"
      },
      "execution_count": null,
      "outputs": [
        {
          "output_type": "stream",
          "name": "stdout",
          "text": [
            "Epoch 1/3\n",
            "10/10 [==============================] - 102s 10s/step - loss: 2.3763 - accuracy: 0.1125 - val_loss: 2.5444 - val_accuracy: 0.0980\n",
            "Epoch 2/3\n",
            "10/10 [==============================] - 86s 9s/step - loss: 2.5726 - accuracy: 0.1125 - val_loss: 2.5516 - val_accuracy: 0.0975\n",
            "Epoch 3/3\n",
            "10/10 [==============================] - 64s 7s/step - loss: 2.5807 - accuracy: 0.0984 - val_loss: 2.5885 - val_accuracy: 0.0958\n"
          ]
        }
      ]
    },
    {
      "cell_type": "code",
      "source": [
        "\n",
        "accuracy = model.evaluate(test_ds)[1] * 100\n",
        "print(\"Accuracy: {:.2f}%\".format(accuracy))"
      ],
      "metadata": {
        "id": "R6UR0XNlxZ33",
        "colab": {
          "base_uri": "https://localhost:8080/"
        },
        "outputId": "664020cf-f0d2-4007-9a5e-41944d49252d"
      },
      "execution_count": null,
      "outputs": [
        {
          "output_type": "stream",
          "name": "stdout",
          "text": [
            "157/157 [==============================] - 60s 380ms/step - loss: 2.5444 - accuracy: 0.0980\n",
            "Accuracy: 9.80%\n"
          ]
        }
      ]
    },
    {
      "cell_type": "markdown",
      "source": [
        "## Image augmentation"
      ],
      "metadata": {
        "id": "RlQiy_-jts0a"
      }
    },
    {
      "cell_type": "code",
      "source": [
        "train_ds = tf.data.Dataset.from_tensor_slices((X_train, y_train))\n",
        "test_ds = tf.data.Dataset.from_tensor_slices((X_test, y_test))"
      ],
      "metadata": {
        "id": "MoavRWB4NLh1"
      },
      "execution_count": null,
      "outputs": []
    },
    {
      "cell_type": "code",
      "source": [
        "train_images = train_ds.map(lambda x, y: x).as_numpy_iterator()\n",
        "train_labels = train_ds.map(lambda x, y: y).as_numpy_iterator()"
      ],
      "metadata": {
        "id": "tiHLenJLaGiv"
      },
      "execution_count": null,
      "outputs": []
    },
    {
      "cell_type": "code",
      "source": [
        "plt.figure(figsize=(6, 6))\n",
        "for i, (image, label) in enumerate(zip(train_images, train_labels)):\n",
        "    if i >= 9:\n",
        "        break\n",
        "    plt.subplot(3, 3, i + 1)\n",
        "    plt.imshow(image, cmap='gray')\n",
        "    plt.title(label)\n",
        "    plt.axis('off')\n",
        "\n",
        "plt.tight_layout()\n",
        "plt.show()"
      ],
      "metadata": {
        "id": "-Ym1eRw2FveG",
        "colab": {
          "base_uri": "https://localhost:8080/",
          "height": 607
        },
        "outputId": "0e6509a2-9fa1-4f77-faff-5e4338ef8069"
      },
      "execution_count": null,
      "outputs": [
        {
          "output_type": "display_data",
          "data": {
            "text/plain": [
              "<Figure size 600x600 with 9 Axes>"
            ],
            "image/png": "[encoded data removed]"
          },
          "metadata": {}
        }
      ]
    },
    {
      "cell_type": "code",
      "source": [
        "data_augmentation = tf.keras.Sequential([\n",
        "    tf.keras.layers.RandomFlip(mode=\"horizontal\", seed=42),\n",
        "    tf.keras.layers.RandomRotation(factor=0.05, seed=42),\n",
        "    tf.keras.layers.RandomContrast(factor=0.2, seed=42)\n",
        "])"
      ],
      "metadata": {
        "id": "mtSoD5ZZtt0f"
      },
      "execution_count": null,
      "outputs": []
    },
    {
      "cell_type": "code",
      "source": [
        "augmented_train_ds = train_ds.map(lambda x, y: (data_augmentation(x, training=True), y))\n",
        "\n",
        "# Select a subset of 9 augmented images\n",
        "augmented_images = []\n",
        "for image, label in augmented_train_ds.take(9):\n",
        "    augmented_images.append(tf.squeeze(image))\n",
        "\n",
        "# Plot the augmented images\n",
        "plt.figure(figsize=(6, 6))\n",
        "for i, image in enumerate(augmented_images):\n",
        "    plt.subplot(3, 3, i + 1)\n",
        "    plt.imshow(image, cmap='gray')\n",
        "    plt.axis('off')\n",
        "\n",
        "plt.tight_layout()\n",
        "plt.show()"
      ],
      "metadata": {
        "id": "591yH2A-OXEQ",
        "colab": {
          "base_uri": "https://localhost:8080/",
          "height": 607
        },
        "outputId": "d5982c47-eb21-4dc1-e9e5-6c206d928aa7"
      },
      "execution_count": null,
      "outputs": [
        {
          "output_type": "display_data",
          "data": {
            "text/plain": [
              "<Figure size 600x600 with 9 Axes>"
            ],
            "image/png": "[encoded data removed]"
          },
          "metadata": {}
        }
      ]
    },
    {
      "cell_type": "markdown",
      "source": [
        "## MLP Mixer"
      ],
      "metadata": {
        "id": "Y1KaJlxwt1IX"
      }
    },
    {
      "cell_type": "code",
      "source": [
        "num_classes = 10\n",
        "input_shape = (32, 32, 3)\n",
        "\n",
        "weight_decay = 0.0001\n",
        "batch_size = 128\n",
        "num_epochs = 3\n",
        "dropout_rate = 0.2\n",
        "image_size = 64  \n",
        "patch_size = 8  \n",
        "num_patches = (image_size // patch_size) ** 2 \n",
        "embedding_dim = 256  \n",
        "num_blocks = 4  \n",
        "learning_rate = 0.005"
      ],
      "metadata": {
        "id": "5Vjo5Na74j7O"
      },
      "execution_count": null,
      "outputs": []
    },
    {
      "cell_type": "code",
      "source": [
        "train_ds = tf.data.Dataset.from_tensor_slices((X_train, y_train))\n",
        "test_ds = tf.data.Dataset.from_tensor_slices((X_test, y_test))"
      ],
      "metadata": {
        "id": "6_Kp9aTuPruq"
      },
      "execution_count": null,
      "outputs": []
    },
    {
      "cell_type": "code",
      "source": [
        "def transforms(image, label):\n",
        "    image = tf.image.resize(image, [32, 32])\n",
        "    image = tf.image.grayscale_to_rgb(image)\n",
        "    image = image / 255.0\n",
        "    return image, label\n",
        "\n",
        "train_ds = train_ds.map(transforms)\n",
        "\n",
        "test_ds = test_ds.map(transforms)"
      ],
      "metadata": {
        "id": "gq5Vox6faa6W"
      },
      "execution_count": null,
      "outputs": []
    },
    {
      "cell_type": "code",
      "source": [
        "\n",
        "class Patches(keras.layers.Layer):\n",
        "  def __init__(self, patch_size, num_patches):\n",
        "    super().__init__()\n",
        "    self.patch_size = patch_size\n",
        "    self.num_patches = num_patches\n",
        "\n",
        "  def call(self, images):\n",
        "    batch_size = tf.shape(images)[0]\n",
        "    patches = tf.image.extract_patches(\n",
        "        images=images,\n",
        "        sizes=[1, self.patch_size, self.patch_size, 1],\n",
        "        strides=[1, self.patch_size, self.patch_size, 1],\n",
        "        rates=[1, 1, 1, 1],\n",
        "        padding=\"VALID\",\n",
        "    )\n",
        "    patch_dims = patches.shape[-1]\n",
        "    patches = tf.reshape(patches, [batch_size, self.num_patches, patch_dims])\n",
        "    return patches"
      ],
      "metadata": {
        "id": "O7LXdPu173kI"
      },
      "execution_count": null,
      "outputs": []
    },
    {
      "cell_type": "code",
      "source": [
        "def build_classifier(blocks, positional_encoding=False):\n",
        "    inputs = keras.layers.Input(shape=input_shape)\n",
        "    augmented = data_augmentation(inputs)\n",
        "    patches = Patches(patch_size, num_patches)(augmented)\n",
        "    x = keras.layers.Dense(units=embedding_dim)(patches)\n",
        "    if positional_encoding:\n",
        "        positions = tf.range(start=0, limit=num_patches, delta=1)\n",
        "        position_embedding = keras.layers.Embedding(\n",
        "            input_dim=num_patches, output_dim=embedding_dim\n",
        "        )(positions)\n",
        "        x = x + position_embedding\n",
        "\n",
        "    x = blocks(x)\n",
        "\n",
        "    representation = keras.layers.GlobalAveragePooling1D()(x)\n",
        "    representation = keras.layers.Dropout(rate=dropout_rate)(representation)\n",
        "    logits = keras.layers.Dense(num_classes)(representation)\n",
        "\n",
        "    return keras.Model(inputs=inputs, outputs=logits)"
      ],
      "metadata": {
        "id": "ITVv5sKt7TAD"
      },
      "execution_count": null,
      "outputs": []
    },
    {
      "cell_type": "code",
      "source": [
        "def run_experiment(model):\n",
        "    optimizer = keras.optimizers.AdamW(learning_rate=learning_rate, weight_decay=weight_decay)\n",
        "    model.compile(\n",
        "        optimizer=optimizer,\n",
        "        loss=keras.losses.SparseCategoricalCrossentropy(from_logits=True),\n",
        "        metrics=[\n",
        "            keras.metrics.SparseCategoricalAccuracy(name=\"acc\"),\n",
        "        ],\n",
        "    )\n",
        "\n",
        "    reduce_lr = keras.callbacks.ReduceLROnPlateau(\n",
        "        monitor=\"val_loss\", factor=0.5, patience=5\n",
        "    )\n",
        "    early_stopping = tf.keras.callbacks.EarlyStopping(\n",
        "        monitor=\"val_loss\", patience=10, restore_best_weights=True\n",
        "    )\n",
        "\n",
        "    train_ds_expanded = train_ds.map(lambda x, y: (tf.expand_dims(x, axis=0), y))\n",
        "    test_ds_expanded = test_ds.map(lambda x, y: (tf.expand_dims(x, axis=0), y))\n",
        "\n",
        "    history = model.fit(\n",
        "        train_ds_expanded,\n",
        "        batch_size=batch_size,\n",
        "        epochs=num_epochs,\n",
        "        callbacks=[early_stopping, reduce_lr],\n",
        "    )\n",
        "\n",
        "    _, accuracy, top_5_accuracy = model.evaluate(test_ds_expanded)\n",
        "    print(f\"Test accuracy: {round(accuracy * 100, 2)}%\")\n",
        "    print(f\"Test top 5 accuracy: {round(top_5_accuracy * 100, 2)}%\")\n",
        "\n",
        "    return history"
      ],
      "metadata": {
        "id": "-PNAgQAW8I_k"
      },
      "execution_count": null,
      "outputs": []
    },
    {
      "cell_type": "code",
      "source": [
        "class MLPMixerLayer(keras.layers.Layer):\n",
        "  def __init__(self, num_patches, hidden_units, dropout_rate, *args, **kwargs):\n",
        "    super().__init__(*args, **kwargs)\n",
        "\n",
        "    self.mlp1 = keras.Sequential(\n",
        "        [\n",
        "            keras.layers.Dense(units=num_patches),\n",
        "            keras.layers.Dense(units=num_patches),\n",
        "            keras.layers.Dropout(rate=dropout_rate),\n",
        "        ]\n",
        "    )\n",
        "    self.mlp2 = keras.Sequential(\n",
        "        [\n",
        "            keras.layers.Dense(units=num_patches),\n",
        "            keras.layers.Dense(units=embedding_dim),\n",
        "            keras.layers.Dropout(rate=dropout_rate),\n",
        "        ]\n",
        "    )\n",
        "    self.normalize = keras.layers.LayerNormalization(epsilon=1e-6)\n",
        "\n",
        "  def call(self, inputs):\n",
        "    x = self.normalize(inputs)\n",
        "    x_channels = tf.linalg.matrix_transpose(x)\n",
        "    mlp1_outputs = self.mlp1(x_channels)\n",
        "    mlp1_outputs = tf.linalg.matrix_transpose(mlp1_outputs)\n",
        "    x = mlp1_outputs + inputs\n",
        "    x_patches = self.normalize(x)\n",
        "    mlp2_outputs = self.mlp2(x_patches)\n",
        "    x = x + mlp2_outputs\n",
        "    return x"
      ],
      "metadata": {
        "id": "LKO2nANg4nIa"
      },
      "execution_count": null,
      "outputs": []
    },
    {
      "cell_type": "code",
      "source": [
        "mlpmixer_blocks = keras.Sequential([MLPMixerLayer(num_patches, embedding_dim, dropout_rate) for _ in range(num_blocks)])\n",
        "\n",
        "mlpmixer_classifier = build_classifier(mlpmixer_blocks)\n",
        "history = run_experiment(mlpmixer_classifier)"
      ],
      "metadata": {
        "colab": {
          "base_uri": "https://localhost:8080/",
          "height": 658
        },
        "id": "p_me3vfQ5tfk",
        "outputId": "dbee507e-395e-4a17-d779-40495a4001e3"
      },
      "execution_count": null,
      "outputs": [
        {
          "output_type": "stream",
          "name": "stdout",
          "text": [
            "Epoch 1/3\n"
          ]
        },
        {
          "output_type": "error",
          "ename": "ValueError",
          "evalue": "ignored",
          "traceback": [
            "\u001b[0;31m---------------------------------------------------------------------------\u001b[0m",
            "\u001b[0;31mValueError\u001b[0m                                Traceback (most recent call last)",
            "\u001b[0;32m<ipython-input-143-3403a51817a7>\u001b[0m in \u001b[0;36m<cell line: 4>\u001b[0;34m()\u001b[0m\n\u001b[1;32m      2\u001b[0m \u001b[0;34m\u001b[0m\u001b[0m\n\u001b[1;32m      3\u001b[0m \u001b[0mmlpmixer_classifier\u001b[0m \u001b[0;34m=\u001b[0m \u001b[0mbuild_classifier\u001b[0m\u001b[0;34m(\u001b[0m\u001b[0mmlpmixer_blocks\u001b[0m\u001b[0;34m)\u001b[0m\u001b[0;34m\u001b[0m\u001b[0;34m\u001b[0m\u001b[0m\n\u001b[0;32m----> 4\u001b[0;31m \u001b[0mhistory\u001b[0m \u001b[0;34m=\u001b[0m \u001b[0mrun_experiment\u001b[0m\u001b[0;34m(\u001b[0m\u001b[0mmlpmixer_classifier\u001b[0m\u001b[0;34m)\u001b[0m\u001b[0;34m\u001b[0m\u001b[0;34m\u001b[0m\u001b[0m\n\u001b[0m",
            "\u001b[0;32m<ipython-input-137-1f73cdeb5fd9>\u001b[0m in \u001b[0;36mrun_experiment\u001b[0;34m(model)\u001b[0m\n\u001b[1;32m     21\u001b[0m     \u001b[0mtest_ds_expanded\u001b[0m \u001b[0;34m=\u001b[0m \u001b[0mtest_ds\u001b[0m\u001b[0;34m.\u001b[0m\u001b[0mmap\u001b[0m\u001b[0;34m(\u001b[0m\u001b[0;32mlambda\u001b[0m \u001b[0mx\u001b[0m\u001b[0;34m,\u001b[0m \u001b[0my\u001b[0m\u001b[0;34m:\u001b[0m \u001b[0;34m(\u001b[0m\u001b[0mtf\u001b[0m\u001b[0;34m.\u001b[0m\u001b[0mexpand_dims\u001b[0m\u001b[0;34m(\u001b[0m\u001b[0mx\u001b[0m\u001b[0;34m,\u001b[0m \u001b[0maxis\u001b[0m\u001b[0;34m=\u001b[0m\u001b[0;36m0\u001b[0m\u001b[0;34m)\u001b[0m\u001b[0;34m,\u001b[0m \u001b[0my\u001b[0m\u001b[0;34m)\u001b[0m\u001b[0;34m)\u001b[0m\u001b[0;34m\u001b[0m\u001b[0;34m\u001b[0m\u001b[0m\n\u001b[1;32m     22\u001b[0m \u001b[0;34m\u001b[0m\u001b[0m\n\u001b[0;32m---> 23\u001b[0;31m     history = model.fit(\n\u001b[0m\u001b[1;32m     24\u001b[0m         \u001b[0mtrain_ds_expanded\u001b[0m\u001b[0;34m,\u001b[0m\u001b[0;34m\u001b[0m\u001b[0;34m\u001b[0m\u001b[0m\n\u001b[1;32m     25\u001b[0m         \u001b[0mbatch_size\u001b[0m\u001b[0;34m=\u001b[0m\u001b[0mbatch_size\u001b[0m\u001b[0;34m,\u001b[0m\u001b[0;34m\u001b[0m\u001b[0;34m\u001b[0m\u001b[0m\n",
            "\u001b[0;32m/usr/local/lib/python3.10/dist-packages/keras/utils/traceback_utils.py\u001b[0m in \u001b[0;36merror_handler\u001b[0;34m(*args, **kwargs)\u001b[0m\n\u001b[1;32m     68\u001b[0m             \u001b[0;31m# To get the full stack trace, call:\u001b[0m\u001b[0;34m\u001b[0m\u001b[0;34m\u001b[0m\u001b[0m\n\u001b[1;32m     69\u001b[0m             \u001b[0;31m# `tf.debugging.disable_traceback_filtering()`\u001b[0m\u001b[0;34m\u001b[0m\u001b[0;34m\u001b[0m\u001b[0m\n\u001b[0;32m---> 70\u001b[0;31m             \u001b[0;32mraise\u001b[0m \u001b[0me\u001b[0m\u001b[0;34m.\u001b[0m\u001b[0mwith_traceback\u001b[0m\u001b[0;34m(\u001b[0m\u001b[0mfiltered_tb\u001b[0m\u001b[0;34m)\u001b[0m \u001b[0;32mfrom\u001b[0m \u001b[0;32mNone\u001b[0m\u001b[0;34m\u001b[0m\u001b[0;34m\u001b[0m\u001b[0m\n\u001b[0m\u001b[1;32m     71\u001b[0m         \u001b[0;32mfinally\u001b[0m\u001b[0;34m:\u001b[0m\u001b[0;34m\u001b[0m\u001b[0;34m\u001b[0m\u001b[0m\n\u001b[1;32m     72\u001b[0m             \u001b[0;32mdel\u001b[0m \u001b[0mfiltered_tb\u001b[0m\u001b[0;34m\u001b[0m\u001b[0;34m\u001b[0m\u001b[0m\n",
            "\u001b[0;32m/usr/local/lib/python3.10/dist-packages/keras/engine/training.py\u001b[0m in \u001b[0;36mtf__train_function\u001b[0;34m(iterator)\u001b[0m\n\u001b[1;32m     13\u001b[0m                 \u001b[0;32mtry\u001b[0m\u001b[0;34m:\u001b[0m\u001b[0;34m\u001b[0m\u001b[0;34m\u001b[0m\u001b[0m\n\u001b[1;32m     14\u001b[0m                     \u001b[0mdo_return\u001b[0m \u001b[0;34m=\u001b[0m \u001b[0;32mTrue\u001b[0m\u001b[0;34m\u001b[0m\u001b[0;34m\u001b[0m\u001b[0m\n\u001b[0;32m---> 15\u001b[0;31m                     \u001b[0mretval_\u001b[0m \u001b[0;34m=\u001b[0m \u001b[0mag__\u001b[0m\u001b[0;34m.\u001b[0m\u001b[0mconverted_call\u001b[0m\u001b[0;34m(\u001b[0m\u001b[0mag__\u001b[0m\u001b[0;34m.\u001b[0m\u001b[0mld\u001b[0m\u001b[0;34m(\u001b[0m\u001b[0mstep_function\u001b[0m\u001b[0;34m)\u001b[0m\u001b[0;34m,\u001b[0m \u001b[0;34m(\u001b[0m\u001b[0mag__\u001b[0m\u001b[0;34m.\u001b[0m\u001b[0mld\u001b[0m\u001b[0;34m(\u001b[0m\u001b[0mself\u001b[0m\u001b[0;34m)\u001b[0m\u001b[0;34m,\u001b[0m \u001b[0mag__\u001b[0m\u001b[0;34m.\u001b[0m\u001b[0mld\u001b[0m\u001b[0;34m(\u001b[0m\u001b[0miterator\u001b[0m\u001b[0;34m)\u001b[0m\u001b[0;34m)\u001b[0m\u001b[0;34m,\u001b[0m \u001b[0;32mNone\u001b[0m\u001b[0;34m,\u001b[0m \u001b[0mfscope\u001b[0m\u001b[0;34m)\u001b[0m\u001b[0;34m\u001b[0m\u001b[0;34m\u001b[0m\u001b[0m\n\u001b[0m\u001b[1;32m     16\u001b[0m                 \u001b[0;32mexcept\u001b[0m\u001b[0;34m:\u001b[0m\u001b[0;34m\u001b[0m\u001b[0;34m\u001b[0m\u001b[0m\n\u001b[1;32m     17\u001b[0m                     \u001b[0mdo_return\u001b[0m \u001b[0;34m=\u001b[0m \u001b[0;32mFalse\u001b[0m\u001b[0;34m\u001b[0m\u001b[0;34m\u001b[0m\u001b[0m\n",
            "\u001b[0;31mValueError\u001b[0m: in user code:\n\n    File \"/usr/local/lib/python3.10/dist-packages/keras/engine/training.py\", line 1284, in train_function  *\n        return step_function(self, iterator)\n    File \"/usr/local/lib/python3.10/dist-packages/keras/engine/training.py\", line 1268, in step_function  **\n        outputs = model.distribute_strategy.run(run_step, args=(data,))\n    File \"/usr/local/lib/python3.10/dist-packages/keras/engine/training.py\", line 1249, in run_step  **\n        outputs = model.train_step(data)\n    File \"/usr/local/lib/python3.10/dist-packages/keras/engine/training.py\", line 1051, in train_step\n        loss = self.compute_loss(x, y, y_pred, sample_weight)\n    File \"/usr/local/lib/python3.10/dist-packages/keras/engine/training.py\", line 1109, in compute_loss\n        return self.compiled_loss(\n    File \"/usr/local/lib/python3.10/dist-packages/keras/engine/compile_utils.py\", line 279, in __call__\n        batch_dim = tf.shape(y_t)[0]\n\n    ValueError: slice index 0 of dimension 0 out of bounds. for '{{node strided_slice}} = StridedSlice[Index=DT_INT32, T=DT_INT32, begin_mask=0, ellipsis_mask=0, end_mask=0, new_axis_mask=0, shrink_axis_mask=1](Shape, strided_slice/stack, strided_slice/stack_1, strided_slice/stack_2)' with input shapes: [0], [1], [1], [1] and with computed input tensors: input[1] = <0>, input[2] = <1>, input[3] = <1>.\n"
          ]
        }
      ]
    }
  ]
}