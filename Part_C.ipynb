{
  "nbformat": 4,
  "nbformat_minor": 0,
  "metadata": {
    "colab": {
      "provenance": []
    },
    "kernelspec": {
      "name": "python3",
      "display_name": "Python 3"
    },
    "language_info": {
      "name": "python"
    }
  },
  "cells": [
    {
      "cell_type": "code",
      "execution_count": null,
      "metadata": {
        "id": "BYvuc-SjrdmD",
        "colab": {
          "base_uri": "https://localhost:8080/",
          "height": 607
        },
        "outputId": "9cdd77dc-6812-4cb7-d618-805cd3a4ab95"
      },
      "outputs": [
        {
          "output_type": "stream",
          "name": "stdout",
          "text": [
            "Looking in indexes: https://pypi.org/simple, https://us-python.pkg.dev/colab-wheels/public/simple/\n",
            "Requirement already satisfied: numpy in /usr/local/lib/python3.10/dist-packages (1.22.4)\n",
            "Collecting numpy\n",
            "  Downloading numpy-1.24.3-cp310-cp310-manylinux_2_17_x86_64.manylinux2014_x86_64.whl (17.3 MB)\n",
            "\u001b[2K     \u001b[90m━━━━━━━━━━━━━━━━━━━━━━━━━━━━━━━━━━━━━━━━\u001b[0m \u001b[32m17.3/17.3 MB\u001b[0m \u001b[31m45.5 MB/s\u001b[0m eta \u001b[36m0:00:00\u001b[0m\n",
            "\u001b[?25hInstalling collected packages: numpy\n",
            "  Attempting uninstall: numpy\n",
            "    Found existing installation: numpy 1.22.4\n",
            "    Uninstalling numpy-1.22.4:\n",
            "      Successfully uninstalled numpy-1.22.4\n",
            "\u001b[31mERROR: pip's dependency resolver does not currently take into account all the packages that are installed. This behaviour is the source of the following dependency conflicts.\n",
            "numba 0.56.4 requires numpy<1.24,>=1.18, but you have numpy 1.24.3 which is incompatible.\n",
            "tensorflow 2.12.0 requires numpy<1.24,>=1.22, but you have numpy 1.24.3 which is incompatible.\u001b[0m\u001b[31m\n",
            "\u001b[0mSuccessfully installed numpy-1.24.3\n"
          ]
        },
        {
          "output_type": "display_data",
          "data": {
            "application/vnd.colab-display-data+json": {
              "pip_warning": {
                "packages": [
                  "numpy"
                ]
              }
            }
          },
          "metadata": {}
        },
        {
          "output_type": "stream",
          "name": "stdout",
          "text": [
            "Looking in indexes: https://pypi.org/simple, https://us-python.pkg.dev/colab-wheels/public/simple/\n",
            "Requirement already satisfied: nibabel in /usr/local/lib/python3.10/dist-packages (3.0.2)\n",
            "Collecting nibabel\n",
            "  Downloading nibabel-5.1.0-py3-none-any.whl (3.3 MB)\n",
            "\u001b[2K     \u001b[90m━━━━━━━━━━━━━━━━━━━━━━━━━━━━━━━━━━━━━━━━\u001b[0m \u001b[32m3.3/3.3 MB\u001b[0m \u001b[31m32.7 MB/s\u001b[0m eta \u001b[36m0:00:00\u001b[0m\n",
            "\u001b[?25hRequirement already satisfied: numpy>=1.19 in /usr/local/lib/python3.10/dist-packages (from nibabel) (1.24.3)\n",
            "Requirement already satisfied: packaging>=17 in /usr/local/lib/python3.10/dist-packages (from nibabel) (23.1)\n",
            "Installing collected packages: nibabel\n",
            "  Attempting uninstall: nibabel\n",
            "    Found existing installation: nibabel 3.0.2\n",
            "    Uninstalling nibabel-3.0.2:\n",
            "      Successfully uninstalled nibabel-3.0.2\n",
            "Successfully installed nibabel-5.1.0\n"
          ]
        }
      ],
      "source": [
        "!pip install --upgrade numpy\n",
        "!pip install --upgrade nibabel"
      ]
    },
    {
      "cell_type": "code",
      "source": [
        "import re\n",
        "import os\n",
        "import random\n",
        "import numpy as np\n",
        "import pandas as pd\n",
        "import tensorflow as tf\n",
        "import matplotlib.pyplot as plt\n",
        "\n",
        "import zipfile\n",
        "from tensorflow import keras\n",
        "import nibabel as nib\n",
        "from scipy import ndimage"
      ],
      "metadata": {
        "id": "RezBE8AZTrif"
      },
      "execution_count": null,
      "outputs": []
    },
    {
      "cell_type": "code",
      "source": [
        "try:\n",
        "    tpu = tf.distribute.cluster_resolver.TPUClusterResolver.connect()\n",
        "    print('Device:', tpu.master())\n",
        "    strategy = tf.distribute.TPUStrategy(tpu)\n",
        "except:\n",
        "    strategy = tf.distribute.get_strategy()\n",
        "print('Number of replicas:', strategy.num_replicas_in_sync)\n",
        "\n",
        "AUTOTUNE = tf.data.AUTOTUNE"
      ],
      "metadata": {
        "colab": {
          "base_uri": "https://localhost:8080/"
        },
        "id": "XzTFu6VpTuJy",
        "outputId": "845dcc13-f081-416c-f31e-d20818b6002d"
      },
      "execution_count": null,
      "outputs": [
        {
          "output_type": "stream",
          "name": "stdout",
          "text": [
            "Number of replicas: 1\n"
          ]
        }
      ]
    },
    {
      "cell_type": "markdown",
      "source": [
        "# **a) Xray pneumonia classification with convnet**"
      ],
      "metadata": {
        "id": "ibUIFCWYT7fE"
      }
    },
    {
      "cell_type": "code",
      "source": [
        "BATCH_SIZE = 16 * strategy.num_replicas_in_sync\n",
        "IMAGE_SIZE = [180, 180]\n",
        "CLASS_NAMES = ['NORMAL', 'PNEUMONIA']"
      ],
      "metadata": {
        "id": "I9tcTd8xTwaQ"
      },
      "execution_count": null,
      "outputs": []
    },
    {
      "cell_type": "code",
      "source": [
        "train_images = tf.data.TFRecordDataset('gs://download.tensorflow.org/data/ChestXRay2017/train/images.tfrec')\n",
        "train_paths = tf.data.TFRecordDataset('gs://download.tensorflow.org/data/ChestXRay2017/train/paths.tfrec')\n",
        "\n",
        "test_images = tf.data.TFRecordDataset('gs://download.tensorflow.org/data/ChestXRay2017/test/images.tfrec')\n",
        "test_paths = tf.data.TFRecordDataset('gs://download.tensorflow.org/data/ChestXRay2017/test/paths.tfrec')\n",
        "\n",
        "ds = tf.data.Dataset.zip((train_images, train_paths))\n",
        "test_ds = tf.data.Dataset.zip((test_images, test_paths))"
      ],
      "metadata": {
        "id": "OvEZuEJmUElF"
      },
      "execution_count": null,
      "outputs": []
    },
    {
      "cell_type": "code",
      "source": [
        "train_images, train_paths"
      ],
      "metadata": {
        "colab": {
          "base_uri": "https://localhost:8080/"
        },
        "id": "6h5yCj-EUHHv",
        "outputId": "336b1a69-d219-40cf-d42c-c302279f5946"
      },
      "execution_count": null,
      "outputs": [
        {
          "output_type": "execute_result",
          "data": {
            "text/plain": [
              "(<TFRecordDatasetV2 element_spec=TensorSpec(shape=(), dtype=tf.string, name=None)>,\n",
              " <TFRecordDatasetV2 element_spec=TensorSpec(shape=(), dtype=tf.string, name=None)>)"
            ]
          },
          "metadata": {},
          "execution_count": 6
        }
      ]
    },
    {
      "cell_type": "code",
      "source": [
        "for filename in train_paths:\n",
        "  print(filename)\n",
        "  break"
      ],
      "metadata": {
        "colab": {
          "base_uri": "https://localhost:8080/"
        },
        "id": "AdQgS_0pUJJt",
        "outputId": "c658e03b-f49c-40a0-ad06-81a99f58b6f0"
      },
      "execution_count": null,
      "outputs": [
        {
          "output_type": "stream",
          "name": "stdout",
          "text": [
            "tf.Tensor(b'./NORMAL/IM-0115-0001.jpeg', shape=(), dtype=string)\n"
          ]
        }
      ]
    },
    {
      "cell_type": "code",
      "source": [
        "COUNT_NORMAL = len(\n",
        "    [\n",
        "        filename\n",
        "        for filename in train_paths\n",
        "        if 'NORMAL' in filename.numpy().decode('utf-8')\n",
        "    ]\n",
        ")\n",
        "print('Normal images count in training set: ' + str(COUNT_NORMAL))\n",
        "\n",
        "COUNT_PNEUMONIA = len(\n",
        "    [\n",
        "        filename\n",
        "        for filename in train_paths\n",
        "        if 'PNEUMONIA' in filename.numpy().decode('utf-8')\n",
        "    ]\n",
        ")\n",
        "print('Pneumonia images count in training set: ' + str(COUNT_PNEUMONIA))"
      ],
      "metadata": {
        "colab": {
          "base_uri": "https://localhost:8080/"
        },
        "id": "kX6LbB8jUKyq",
        "outputId": "c7340d02-9ede-4118-cc32-9110b0bdae62"
      },
      "execution_count": null,
      "outputs": [
        {
          "output_type": "stream",
          "name": "stdout",
          "text": [
            "Normal images count in training set: 1349\n",
            "Pneumonia images count in training set: 3883\n"
          ]
        }
      ]
    },
    {
      "cell_type": "code",
      "source": [
        "def get_label(file_path):\n",
        "    parts = tf.strings.split(file_path, '/')\n",
        "    return parts[-2] == 'PNEUMONIA'\n",
        "\n",
        "def decode_img(img):\n",
        "    img = tf.image.decode_jpeg(img, channels=3)\n",
        "    return tf.image.resize(img, IMAGE_SIZE)\n",
        "\n",
        "def process_path(image, path):\n",
        "    label = get_label(path)\n",
        "    img = decode_img(image)\n",
        "    return img, label\n",
        "\n",
        "ds = ds.map(process_path, num_parallel_calls=AUTOTUNE)\n",
        "\n",
        "test_ds = test_ds.map(process_path, num_parallel_calls=AUTOTUNE)\n",
        "test_ds = test_ds.batch(BATCH_SIZE)"
      ],
      "metadata": {
        "id": "ZQ3_wzY3UM_v"
      },
      "execution_count": null,
      "outputs": []
    },
    {
      "cell_type": "code",
      "source": [
        "ds = ds.shuffle(10000)\n",
        "train_ds = ds.take(6000)\n",
        "val_ds = ds.skip(6000)"
      ],
      "metadata": {
        "id": "pxZISpLDUPoO"
      },
      "execution_count": null,
      "outputs": []
    },
    {
      "cell_type": "code",
      "source": [
        "for image, label in train_ds.take(1):\n",
        "    print('Image shape: ', image.numpy().shape)\n",
        "    print('Label: ', label.numpy())"
      ],
      "metadata": {
        "colab": {
          "base_uri": "https://localhost:8080/"
        },
        "id": "xzGxA1lDUUbO",
        "outputId": "a2db9539-10ef-4022-85ad-4dbab5741334"
      },
      "execution_count": null,
      "outputs": [
        {
          "output_type": "stream",
          "name": "stdout",
          "text": [
            "Image shape:  (180, 180, 3)\n",
            "Label:  True\n"
          ]
        }
      ]
    },
    {
      "cell_type": "code",
      "source": [
        "def prepare_for_training(ds, cache=True):\n",
        "    if cache:\n",
        "      if isinstance(cache, str):\n",
        "          ds = ds.cache(cache)\n",
        "      else:\n",
        "          ds = ds.cache()\n",
        "\n",
        "    ds = ds.batch(BATCH_SIZE)\n",
        "    ds = ds.prefetch(buffer_size=AUTOTUNE)\n",
        "\n",
        "    return ds"
      ],
      "metadata": {
        "id": "OVfaNTekUWhx"
      },
      "execution_count": null,
      "outputs": []
    },
    {
      "cell_type": "code",
      "source": [
        "train_ds = prepare_for_training(train_ds)\n",
        "val_ds = prepare_for_training(val_ds)"
      ],
      "metadata": {
        "id": "8ffzaW5bUeRR"
      },
      "execution_count": null,
      "outputs": []
    },
    {
      "cell_type": "code",
      "source": [
        "initial_bias = np.log([COUNT_PNEUMONIA / COUNT_NORMAL])\n",
        "print('Initial bias: {:.5f}'.format(initial_bias[0]))\n",
        "\n",
        "TRAIN_IMG_COUNT = COUNT_NORMAL + COUNT_PNEUMONIA\n",
        "weight_for_0 = (1 / COUNT_NORMAL) * (TRAIN_IMG_COUNT) / 2.0\n",
        "weight_for_1 = (1 / COUNT_PNEUMONIA) * (TRAIN_IMG_COUNT) / 2.0\n",
        "\n",
        "class_weight = {0: weight_for_0, 1: weight_for_1}\n",
        "\n",
        "print('Weight for class 0: {:.2f}'.format(weight_for_0))\n",
        "print('Weight for class 1: {:.2f}'.format(weight_for_1))"
      ],
      "metadata": {
        "colab": {
          "base_uri": "https://localhost:8080/"
        },
        "id": "WOlnv3V6Ugfl",
        "outputId": "035b789e-8d25-4ee4-e5c6-b63fe87192f5"
      },
      "execution_count": null,
      "outputs": [
        {
          "output_type": "stream",
          "name": "stdout",
          "text": [
            "Initial bias: 1.05724\n",
            "Weight for class 0: 1.94\n",
            "Weight for class 1: 0.67\n"
          ]
        }
      ]
    },
    {
      "cell_type": "code",
      "source": [
        "def conv_block(filters, inputs):\n",
        "  x = tf.keras.layers.SeparableConv2D(filters, 3, activation='relu', padding='same')(inputs)\n",
        "  x = tf.keras.layers.SeparableConv2D(filters, 3, activation='relu', padding='same')(x)\n",
        "  x = tf.keras.layers.BatchNormalization()(x)\n",
        "  outputs = tf.keras.layers.MaxPool2D()(x)\n",
        "  return outputs\n",
        "\n",
        "def dense_block(units, dropout_rate, inputs):\n",
        "  x = tf.keras.layers.Dense(units, activation='relu')(inputs)\n",
        "  x = tf.keras.layers.BatchNormalization()(x)\n",
        "  outputs = tf.keras.layers.Dropout(dropout_rate)(x)\n",
        "  return outputs"
      ],
      "metadata": {
        "id": "8X7-r-t7UivO"
      },
      "execution_count": null,
      "outputs": []
    },
    {
      "cell_type": "code",
      "source": [
        "def build_model():\n",
        "    inputs = tf.keras.Input(shape=(IMAGE_SIZE[0], IMAGE_SIZE[1], 3))\n",
        "    x = tf.keras.layers.Rescaling(1.0 / 255)(inputs)\n",
        "    x = tf.keras.layers.Conv2D(16, 3, activation='relu', padding='same')(x)\n",
        "    x = tf.keras.layers.Conv2D(16, 3, activation='relu', padding='same')(x)\n",
        "    x = tf.keras.layers.MaxPool2D()(x)\n",
        "\n",
        "    x = conv_block(32, x)\n",
        "    x = conv_block(64, x)\n",
        "    x = conv_block(128, x)\n",
        "    x = tf.keras.layers.Dropout(0.2)(x)\n",
        "    x = conv_block(256, x)\n",
        "    x = tf.keras.layers.Dropout(0.2)(x)\n",
        "\n",
        "    x = tf.keras.layers.Flatten()(x)\n",
        "    x = dense_block(512, 0.7, x)\n",
        "    x = dense_block(128, 0.5, x)\n",
        "    x = dense_block(64, 0.3, x)\n",
        "\n",
        "    outputs = tf.keras.layers.Dense(1, activation='sigmoid')(x)\n",
        "\n",
        "    model = tf.keras.Model(inputs=inputs, outputs=outputs)\n",
        "    \n",
        "    return model"
      ],
      "metadata": {
        "id": "59CTYsG7U-F8"
      },
      "execution_count": null,
      "outputs": []
    },
    {
      "cell_type": "code",
      "source": [
        "checkpoint_cb = tf.keras.callbacks.ModelCheckpoint('xray_model.h5', save_best_only=True)\n",
        "\n",
        "early_stopping_cb = tf.keras.callbacks.EarlyStopping(monitor='loss', patience=10, restore_best_weights=True)\n",
        "\n",
        "initial_learning_rate = 0.001\n",
        "lr_schedule = tf.keras.optimizers.schedules.ExponentialDecay(initial_learning_rate, decay_steps=100000, decay_rate=0.96, staircase=True)"
      ],
      "metadata": {
        "id": "ZgHe8XpzVAh0"
      },
      "execution_count": null,
      "outputs": []
    },
    {
      "cell_type": "code",
      "source": [
        "model = build_model()\n",
        "\n",
        "METRICS = [\n",
        "    tf.keras.metrics.BinaryAccuracy(),\n",
        "    tf.keras.metrics.Precision(name='precision'),\n",
        "    tf.keras.metrics.Recall(name='recall'),\n",
        "]\n",
        "\n",
        "model.compile(\n",
        "    optimizer=tf.keras.optimizers.Adam(learning_rate=lr_schedule),\n",
        "    loss='binary_crossentropy',\n",
        "    metrics=METRICS,\n",
        ")\n",
        "\n",
        "history = model.fit(\n",
        "    train_ds,\n",
        "    epochs=5,\n",
        "    validation_data=val_ds,\n",
        "    class_weight=class_weight,\n",
        "    callbacks=[checkpoint_cb, early_stopping_cb],\n",
        ")"
      ],
      "metadata": {
        "colab": {
          "base_uri": "https://localhost:8080/"
        },
        "id": "eRZ-iwL2VCq7",
        "outputId": "2d29c128-d2d4-43af-c55a-075aa0e393e7"
      },
      "execution_count": null,
      "outputs": [
        {
          "output_type": "stream",
          "name": "stdout",
          "text": [
            "Epoch 1/5\n",
            "    327/Unknown - 577s 2s/step - loss: 0.3667 - binary_accuracy: 0.8345 - precision: 0.9556 - recall: 0.8148"
          ]
        },
        {
          "output_type": "stream",
          "name": "stderr",
          "text": [
            "WARNING:tensorflow:Can save best model only with val_loss available, skipping.\n"
          ]
        },
        {
          "output_type": "stream",
          "name": "stdout",
          "text": [
            "\b\b\b\b\b\b\b\b\b\b\b\b\b\b\b\b\b\b\b\b\b\b\b\b\b\b\b\b\b\b\b\b\b\b\b\b\b\b\b\b\b\b\b\b\b\b\b\b\b\b\b\b\b\b\b\b\b\b\b\b\b\b\b\b\b\b\b\b\b\b\b\b\b\b\b\b\b\b\b\b\b\b\b\b\b\b\b\b\b\b\b\b\b\b\b\b\b\b\b\b\b\b\b\b\b\b\b\b\r327/327 [==============================] - 660s 2s/step - loss: 0.3667 - binary_accuracy: 0.8345 - precision: 0.9556 - recall: 0.8148\n",
            "Epoch 2/5\n",
            "327/327 [==============================] - ETA: 0s - loss: 0.2169 - binary_accuracy: 0.9197 - precision: 0.9745 - recall: 0.9158"
          ]
        },
        {
          "output_type": "stream",
          "name": "stderr",
          "text": [
            "WARNING:tensorflow:Can save best model only with val_loss available, skipping.\n"
          ]
        },
        {
          "output_type": "stream",
          "name": "stdout",
          "text": [
            "\b\b\b\b\b\b\b\b\b\b\b\b\b\b\b\b\b\b\b\b\b\b\b\b\b\b\b\b\b\b\b\b\b\b\b\b\b\b\b\b\b\b\b\b\b\b\b\b\b\b\b\b\b\b\b\b\b\b\b\b\b\b\b\b\b\b\b\b\b\b\b\b\b\b\b\b\b\b\b\b\b\b\b\b\b\b\b\b\b\b\b\b\b\b\b\b\b\b\b\b\b\b\b\b\b\b\b\b\b\b\b\b\b\b\b\b\b\b\b\b\b\b\b\b\b\b\b\b\r327/327 [==============================] - 434s 1s/step - loss: 0.2169 - binary_accuracy: 0.9197 - precision: 0.9745 - recall: 0.9158\n",
            "Epoch 3/5\n",
            "327/327 [==============================] - ETA: 0s - loss: 0.2074 - binary_accuracy: 0.9297 - precision: 0.9754 - recall: 0.9287"
          ]
        },
        {
          "output_type": "stream",
          "name": "stderr",
          "text": [
            "WARNING:tensorflow:Can save best model only with val_loss available, skipping.\n"
          ]
        },
        {
          "output_type": "stream",
          "name": "stdout",
          "text": [
            "\b\b\b\b\b\b\b\b\b\b\b\b\b\b\b\b\b\b\b\b\b\b\b\b\b\b\b\b\b\b\b\b\b\b\b\b\b\b\b\b\b\b\b\b\b\b\b\b\b\b\b\b\b\b\b\b\b\b\b\b\b\b\b\b\b\b\b\b\b\b\b\b\b\b\b\b\b\b\b\b\b\b\b\b\b\b\b\b\b\b\b\b\b\b\b\b\b\b\b\b\b\b\b\b\b\b\b\b\b\b\b\b\b\b\b\b\b\b\b\b\b\b\b\b\b\b\b\b\r327/327 [==============================] - 433s 1s/step - loss: 0.2074 - binary_accuracy: 0.9297 - precision: 0.9754 - recall: 0.9287\n",
            "Epoch 4/5\n",
            "327/327 [==============================] - ETA: 0s - loss: 0.1834 - binary_accuracy: 0.9337 - precision: 0.9771 - recall: 0.9325"
          ]
        },
        {
          "output_type": "stream",
          "name": "stderr",
          "text": [
            "WARNING:tensorflow:Can save best model only with val_loss available, skipping.\n"
          ]
        },
        {
          "output_type": "stream",
          "name": "stdout",
          "text": [
            "\b\b\b\b\b\b\b\b\b\b\b\b\b\b\b\b\b\b\b\b\b\b\b\b\b\b\b\b\b\b\b\b\b\b\b\b\b\b\b\b\b\b\b\b\b\b\b\b\b\b\b\b\b\b\b\b\b\b\b\b\b\b\b\b\b\b\b\b\b\b\b\b\b\b\b\b\b\b\b\b\b\b\b\b\b\b\b\b\b\b\b\b\b\b\b\b\b\b\b\b\b\b\b\b\b\b\b\b\b\b\b\b\b\b\b\b\b\b\b\b\b\b\b\b\b\b\b\b\r327/327 [==============================] - 434s 1s/step - loss: 0.1834 - binary_accuracy: 0.9337 - precision: 0.9771 - recall: 0.9325\n",
            "Epoch 5/5\n",
            "327/327 [==============================] - ETA: 0s - loss: 0.1599 - binary_accuracy: 0.9400 - precision: 0.9788 - recall: 0.9395"
          ]
        },
        {
          "output_type": "stream",
          "name": "stderr",
          "text": [
            "WARNING:tensorflow:Can save best model only with val_loss available, skipping.\n"
          ]
        },
        {
          "output_type": "stream",
          "name": "stdout",
          "text": [
            "\b\b\b\b\b\b\b\b\b\b\b\b\b\b\b\b\b\b\b\b\b\b\b\b\b\b\b\b\b\b\b\b\b\b\b\b\b\b\b\b\b\b\b\b\b\b\b\b\b\b\b\b\b\b\b\b\b\b\b\b\b\b\b\b\b\b\b\b\b\b\b\b\b\b\b\b\b\b\b\b\b\b\b\b\b\b\b\b\b\b\b\b\b\b\b\b\b\b\b\b\b\b\b\b\b\b\b\b\b\b\b\b\b\b\b\b\b\b\b\b\b\b\b\b\b\b\b\b\r327/327 [==============================] - 432s 1s/step - loss: 0.1599 - binary_accuracy: 0.9400 - precision: 0.9788 - recall: 0.9395\n"
          ]
        }
      ]
    },
    {
      "cell_type": "code",
      "source": [
        "model.evaluate(test_ds, return_dict=True)"
      ],
      "metadata": {
        "colab": {
          "base_uri": "https://localhost:8080/"
        },
        "id": "IY3QA2BdVFBF",
        "outputId": "06c62fd2-a2d6-4cd0-a31e-376190465cfb"
      },
      "execution_count": null,
      "outputs": [
        {
          "output_type": "stream",
          "name": "stdout",
          "text": [
            "39/39 [==============================] - 17s 402ms/step - loss: 0.5371 - binary_accuracy: 0.7885 - precision: 0.7490 - recall: 0.9949\n"
          ]
        },
        {
          "output_type": "execute_result",
          "data": {
            "text/plain": [
              "{'loss': 0.537092387676239,\n",
              " 'binary_accuracy': 0.7884615659713745,\n",
              " 'precision': 0.7490347623825073,\n",
              " 'recall': 0.9948717951774597}"
            ]
          },
          "metadata": {},
          "execution_count": 19
        }
      ]
    },
    {
      "cell_type": "code",
      "source": [
        "for image, label in test_ds.take(1):\n",
        "    plt.imshow(image[0] / 255.0)\n",
        "    plt.title(CLASS_NAMES[label[0].numpy()])\n",
        "\n",
        "prediction = model.predict(test_ds.take(1))[0]\n",
        "scores = [1 - prediction, prediction]\n",
        "\n",
        "for score, name in zip(scores, CLASS_NAMES):\n",
        "    print('This image is %.2f percent %s' % ((100 * score), name))"
      ],
      "metadata": {
        "colab": {
          "base_uri": "https://localhost:8080/",
          "height": 541
        },
        "id": "87zztFfcVHP9",
        "outputId": "c765880f-8f85-4b09-ed02-a58c325010fa"
      },
      "execution_count": null,
      "outputs": [
        {
          "output_type": "stream",
          "name": "stderr",
          "text": [
            "<ipython-input-20-ac5bdff6308d>:3: DeprecationWarning: In future, it will be an error for 'np.bool_' scalars to be interpreted as an index\n",
            "  plt.title(CLASS_NAMES[label[0].numpy()])\n"
          ]
        },
        {
          "output_type": "stream",
          "name": "stdout",
          "text": [
            "1/1 [==============================] - 2s 2s/step\n",
            "This image is 49.61 percent NORMAL\n",
            "This image is 50.39 percent PNEUMONIA\n"
          ]
        },
        {
          "output_type": "display_data",
          "data": {
            "text/plain": [
              "<Figure size 640x480 with 1 Axes>"
            ],
            "image/png": "[encoded data removed]"
          },
          "metadata": {}
        }
      ]
    },
    {
      "cell_type": "markdown",
      "source": [
        "# **b) 3d image classication of ctscan **"
      ],
      "metadata": {
        "id": "l5stWvBFVLz-"
      }
    },
    {
      "cell_type": "code",
      "source": [
        "url = \"https://github.com/hasibzunair/3D-image-classification-tutorial/releases/download/v0.2/CT-0.zip\"\n",
        "filename = os.path.join(os.getcwd(), \"CT-0.zip\")\n",
        "keras.utils.get_file(filename, url)\n",
        "\n",
        "url = \"https://github.com/hasibzunair/3D-image-classification-tutorial/releases/download/v0.2/CT-23.zip\"\n",
        "filename = os.path.join(os.getcwd(), \"CT-23.zip\")\n",
        "keras.utils.get_file(filename, url)\n",
        "\n",
        "os.makedirs(\"MosMedData\")\n",
        "\n",
        "with zipfile.ZipFile(\"CT-0.zip\", \"r\") as z_fp:\n",
        "    z_fp.extractall(\"./MosMedData/\")\n",
        "\n",
        "with zipfile.ZipFile(\"CT-23.zip\", \"r\") as z_fp:\n",
        "    z_fp.extractall(\"./MosMedData/\")"
      ],
      "metadata": {
        "colab": {
          "base_uri": "https://localhost:8080/"
        },
        "id": "-9KjbcPWVJYn",
        "outputId": "3bbf03c7-451f-4d8b-d1cd-01c75bcc2e5a"
      },
      "execution_count": null,
      "outputs": [
        {
          "output_type": "stream",
          "name": "stdout",
          "text": [
            "Downloading data from https://github.com/hasibzunair/3D-image-classification-tutorial/releases/download/v0.2/CT-0.zip\n",
            "1065471431/1065471431 [==============================] - 13s 0us/step\n",
            "Downloading data from https://github.com/hasibzunair/3D-image-classification-tutorial/releases/download/v0.2/CT-23.zip\n",
            "1045162547/1045162547 [==============================] - 15s 0us/step\n"
          ]
        }
      ]
    },
    {
      "cell_type": "code",
      "source": [
        "def read_nifti_file(filepath):\n",
        "    \"\"\"Read and load volume\"\"\"\n",
        "    scan = nib.load(filepath)\n",
        "    scan = scan.get_fdata()\n",
        "    return scan\n",
        "\n",
        "def normalize(volume):\n",
        "    \"\"\"Normalize the volume\"\"\"\n",
        "    min = -1000\n",
        "    max = 400\n",
        "    volume[volume < min] = min\n",
        "    volume[volume > max] = max\n",
        "    volume = (volume - min) / (max - min)\n",
        "    volume = volume.astype(\"float32\")\n",
        "    return volume\n",
        "\n",
        "def resize_volume(img):\n",
        "    \"\"\"Resize across z-axis\"\"\"\n",
        "    desired_depth = 64\n",
        "    desired_width = 128\n",
        "    desired_height = 128\n",
        "    current_depth = img.shape[-1]\n",
        "    current_width = img.shape[0]\n",
        "    current_height = img.shape[1]\n",
        "    depth = current_depth / desired_depth\n",
        "    width = current_width / desired_width\n",
        "    height = current_height / desired_height\n",
        "    depth_factor = 1 / depth\n",
        "    width_factor = 1 / width\n",
        "    height_factor = 1 / height\n",
        "    img = ndimage.rotate(img, 90, reshape=False)\n",
        "    img = ndimage.zoom(img, (width_factor, height_factor, depth_factor), order=1)\n",
        "    return img\n",
        "\n",
        "def process_scan(path):\n",
        "    \"\"\"Read and resize volume\"\"\"\n",
        "    volume = read_nifti_file(path)\n",
        "    volume = normalize(volume)\n",
        "    volume = resize_volume(volume)\n",
        "    return volume"
      ],
      "metadata": {
        "id": "NeQjQKSLVZBL"
      },
      "execution_count": null,
      "outputs": []
    },
    {
      "cell_type": "code",
      "source": [
        "normal_scan_paths = [\n",
        "    os.path.join(os.getcwd(), \"MosMedData/CT-0\", x)\n",
        "    for x in os.listdir(\"MosMedData/CT-0\")\n",
        "]\n",
        "abnormal_scan_paths = [\n",
        "    os.path.join(os.getcwd(), \"MosMedData/CT-23\", x)\n",
        "    for x in os.listdir(\"MosMedData/CT-23\")\n",
        "]\n",
        "\n",
        "print(\"CT scans with normal lung tissue: \" + str(len(normal_scan_paths)))\n",
        "print(\"CT scans with abnormal lung tissue: \" + str(len(abnormal_scan_paths)))"
      ],
      "metadata": {
        "colab": {
          "base_uri": "https://localhost:8080/"
        },
        "id": "Wu-OyKNQVsvy",
        "outputId": "771c32a1-1fb6-4d66-83ae-746d3af3b413"
      },
      "execution_count": null,
      "outputs": [
        {
          "output_type": "stream",
          "name": "stdout",
          "text": [
            "CT scans with normal lung tissue: 100\n",
            "CT scans with abnormal lung tissue: 100\n"
          ]
        }
      ]
    },
    {
      "cell_type": "code",
      "source": [
        "abnormal_scans = np.array([process_scan(path) for path in abnormal_scan_paths])\n",
        "normal_scans = np.array([process_scan(path) for path in normal_scan_paths])\n",
        "\n",
        "abnormal_labels = np.array([1 for _ in range(len(abnormal_scans))])\n",
        "normal_labels = np.array([0 for _ in range(len(normal_scans))])\n",
        "\n",
        "x_train = np.concatenate((abnormal_scans[:70], normal_scans[:70]), axis=0)\n",
        "y_train = np.concatenate((abnormal_labels[:70], normal_labels[:70]), axis=0)\n",
        "x_val = np.concatenate((abnormal_scans[70:], normal_scans[70:]), axis=0)\n",
        "y_val = np.concatenate((abnormal_labels[70:], normal_labels[70:]), axis=0)\n",
        "print(\n",
        "    \"Number of samples in train and validation are %d and %d.\"\n",
        "    % (x_train.shape[0], x_val.shape[0])\n",
        ")"
      ],
      "metadata": {
        "colab": {
          "base_uri": "https://localhost:8080/"
        },
        "id": "RU_nsiG7Vwq-",
        "outputId": "efb3347b-cc62-4bba-a33b-c5a772bd8fa9"
      },
      "execution_count": null,
      "outputs": [
        {
          "output_type": "stream",
          "name": "stdout",
          "text": [
            "Number of samples in train and validation are 140 and 60.\n"
          ]
        }
      ]
    },
    {
      "cell_type": "code",
      "source": [
        "import random\n",
        "\n",
        "from scipy import ndimage\n",
        "\n",
        "@tf.function\n",
        "def rotate(volume):\n",
        "    \"\"\"Rotate the volume by a few degrees\"\"\"\n",
        "\n",
        "    def scipy_rotate(volume):\n",
        "        angles = [-20, -10, -5, 5, 10, 20]\n",
        "        angle = random.choice(angles)\n",
        "        volume = ndimage.rotate(volume, angle, reshape=False)\n",
        "        volume[volume < 0] = 0\n",
        "        volume[volume > 1] = 1\n",
        "        return volume\n",
        "\n",
        "    augmented_volume = tf.numpy_function(scipy_rotate, [volume], tf.float32)\n",
        "    return augmented_volume\n",
        "\n",
        "def train_preprocessing(volume, label):\n",
        "    \"\"\"Process training data by rotating and adding a channel.\"\"\"\n",
        "    volume = rotate(volume)\n",
        "    volume = tf.expand_dims(volume, axis=3)\n",
        "    return volume, label\n",
        "\n",
        "def validation_preprocessing(volume, label):\n",
        "    \"\"\"Process validation data by only adding a channel.\"\"\"\n",
        "    volume = tf.expand_dims(volume, axis=3)\n",
        "    return volume, label"
      ],
      "metadata": {
        "id": "Ea8JYh2zV1Fx"
      },
      "execution_count": null,
      "outputs": []
    },
    {
      "cell_type": "code",
      "source": [
        "train_loader = tf.data.Dataset.from_tensor_slices((x_train, y_train))\n",
        "validation_loader = tf.data.Dataset.from_tensor_slices((x_val, y_val))\n",
        "\n",
        "batch_size = 2\n",
        "train_dataset = (\n",
        "    train_loader.shuffle(len(x_train))\n",
        "    .map(train_preprocessing)\n",
        "    .batch(batch_size)\n",
        "    .prefetch(2)\n",
        ")\n",
        "validation_dataset = (\n",
        "    validation_loader.shuffle(len(x_val))\n",
        "    .map(validation_preprocessing)\n",
        "    .batch(batch_size)\n",
        "    .prefetch(2)\n",
        ")"
      ],
      "metadata": {
        "id": "Ed3Bb6c8V8ym"
      },
      "execution_count": null,
      "outputs": []
    },
    {
      "cell_type": "code",
      "source": [
        "def get_model(width, height, depth):\n",
        "    inputs = keras.Input((width, height, depth, 1))\n",
        "    \n",
        "    x = keras.layers.Conv3D(filters=64, kernel_size=3, activation=\"relu\")(inputs)\n",
        "    x = keras.layers.BatchNormalization()(x)\n",
        "    x = keras.layers.MaxPool3D(pool_size=2)(x)\n",
        "    \n",
        "    # Add more layers as needed\n",
        "    \n",
        "    model = keras.Model(inputs=inputs, outputs=x)\n",
        "    return model\n",
        "\n",
        "\n",
        "    x = keras.layers.MaxPool3D(pool_size=2)(x)\n",
        "    x = keras.layers.Conv3D(filters=64, kernel_size=3, activation=\"relu\")(inputs)\n",
        "    x = keras.layers.BatchNormalization()(x)\n",
        "\n",
        "    x = keras.layers.Conv3D(filters=64, kernel_size=3, activation=\"relu\")(x)\n",
        "    x = keras.layers.MaxPool3D(pool_size=2)(x)\n",
        "    x = keras.layers.BatchNormalization()(x)\n",
        "\n",
        "    x = keras.layers.Conv3D(filters=128, kernel_size=3, activation=\"relu\")(x)\n",
        "    x = keras.layers.MaxPool3D(pool_size=2)(x)\n",
        "    x = keras.layers.BatchNormalization()(x)\n",
        "\n",
        "    x = keras.layers.Conv3D(filters=256, kernel_size=3, activation=\"relu\")(x)\n",
        "    x = keras.layers.MaxPool3D(pool_size=2)(x)\n",
        "    x = keras.layers.BatchNormalization()(x)\n",
        "\n",
        "    x = keras.layers.GlobalAveragePooling3D()(x)\n",
        "    x = keras.layers.Dense(units=512, activation=\"relu\")(x)\n",
        "    x = keras.layers.Dropout(0.3)(x)\n",
        "\n",
        "    outputs = keras.layers.Dense(units=1, activation=\"sigmoid\")(x)\n",
        "\n",
        "    # Define the model.\n",
        "    model = keras.Model(inputs, outputs, name=\"3dcnn\")\n",
        "    return model\n",
        "\n",
        "\n",
        "# Build model.\n",
        "model = get_model(width=128, height=128, depth=64)\n",
        "model.summary()"
      ],
      "metadata": {
        "colab": {
          "base_uri": "https://localhost:8080/"
        },
        "id": "fiDDgmvBWA6x",
        "outputId": "2dae3eb3-d65c-4f8a-871b-e7e41673a7d7"
      },
      "execution_count": null,
      "outputs": [
        {
          "output_type": "stream",
          "name": "stdout",
          "text": [
            "Model: \"model_1\"\n",
            "_________________________________________________________________\n",
            " Layer (type)                Output Shape              Param #   \n",
            "=================================================================\n",
            " input_4 (InputLayer)        [(None, 128, 128, 64, 1)  0         \n",
            "                             ]                                   \n",
            "                                                                 \n",
            " conv3d (Conv3D)             (None, 126, 126, 62, 64)  1792      \n",
            "                                                                 \n",
            " batch_normalization_7 (Batc  (None, 126, 126, 62, 64)  256      \n",
            " hNormalization)                                                 \n",
            "                                                                 \n",
            " max_pooling3d_2 (MaxPooling  (None, 63, 63, 31, 64)   0         \n",
            " 3D)                                                             \n",
            "                                                                 \n",
            "=================================================================\n",
            "Total params: 2,048\n",
            "Trainable params: 1,920\n",
            "Non-trainable params: 128\n",
            "_________________________________________________________________\n"
          ]
        }
      ]
    },
    {
      "cell_type": "code",
      "source": [
        "initial_learning_rate = 0.0001\n",
        "lr_schedule = keras.optimizers.schedules.ExponentialDecay(\n",
        "    initial_learning_rate, decay_steps=100000, decay_rate=0.96, staircase=True\n",
        ")\n",
        "model.compile(\n",
        "    loss=\"binary_crossentropy\",\n",
        "    optimizer=keras.optimizers.Adam(learning_rate=lr_schedule),\n",
        "    metrics=[\"acc\"],\n",
        ")\n",
        "\n",
        "checkpoint_cb = keras.callbacks.ModelCheckpoint(\n",
        "    \"3d_image_classification.h5\", save_best_only=True\n",
        ")\n",
        "early_stopping_cb = keras.callbacks.EarlyStopping(monitor=\"val_acc\", patience=15)\n",
        "\n",
        "epochs = 40\n",
        "model.fit(\n",
        "    train_dataset,\n",
        "    validation_data=validation_dataset,\n",
        "    epochs=epochs,\n",
        "    shuffle=True,\n",
        "    verbose=2,\n",
        "    callbacks=[checkpoint_cb, early_stopping_cb],\n",
        ")"
      ],
      "metadata": {
        "id": "WEhDLdqLny95"
      },
      "execution_count": null,
      "outputs": []
    },
    {
      "cell_type": "code",
      "source": [
        "\n",
        "model.load_weights(\"3d_image_classification.h5\")\n",
        "prediction = model.predict(np.expand_dims(x_val[0], axis=0))[0]\n",
        "scores = [1 - prediction[0], prediction[0]]\n",
        "\n",
        "class_names = [\"normal\", \"abnormal\"]\n",
        "for score, name in zip(scores, class_names):\n",
        "    print(\n",
        "        \"This model is %.2f percent confident that CT scan is %s\"\n",
        "        % ((100 * score), name)\n",
        "    )"
      ],
      "metadata": {
        "id": "hgFZA5uSmvQq"
      },
      "execution_count": null,
      "outputs": []
    }
  ]
}